{
 "cells": [
  {
   "cell_type": "markdown",
   "metadata": {},
   "source": [
    "# Companies house API"
   ]
  },
  {
   "cell_type": "code",
   "execution_count": 4,
   "metadata": {},
   "outputs": [
    {
     "name": "stdout",
     "output_type": "stream",
     "text": [
      "Solving environment: done\n",
      "\n",
      "\n",
      "==> WARNING: A newer version of conda exists. <==\n",
      "  current version: 4.4.10\n",
      "  latest version: 4.5.11\n",
      "\n",
      "Please update conda by running\n",
      "\n",
      "    $ conda update -n base conda\n",
      "\n",
      "\n",
      "\n",
      "## Package Plan ##\n",
      "\n",
      "  environment location: /Users/carmenaguilargarcia/anaconda3\n",
      "\n",
      "  added / updated specs: \n",
      "    - requests\n",
      "\n",
      "\n",
      "The following packages will be downloaded:\n",
      "\n",
      "    package                    |            build\n",
      "    ---------------------------|-----------------\n",
      "    requests-2.20.1            |        py36_1000          84 KB  conda-forge\n",
      "\n",
      "The following packages will be UPDATED:\n",
      "\n",
      "    requests: 2.20.0-py36_1000 conda-forge --> 2.20.1-py36_1000 conda-forge\n",
      "\n",
      "\n",
      "Downloading and Extracting Packages\n",
      "requests 2.20.1: ####################################################### | 100% \n",
      "Preparing transaction: done\n",
      "Verifying transaction: done\n",
      "Executing transaction: done\n"
     ]
    }
   ],
   "source": [
    "#libraries\n",
    "import sys\n",
    "!conda install --yes --prefix {sys.prefix} requests"
   ]
  },
  {
   "cell_type": "code",
   "execution_count": 5,
   "metadata": {},
   "outputs": [
    {
     "name": "stdout",
     "output_type": "stream",
     "text": [
      "Solving environment: done\n",
      "\n",
      "\n",
      "==> WARNING: A newer version of conda exists. <==\n",
      "  current version: 4.4.10\n",
      "  latest version: 4.5.11\n",
      "\n",
      "Please update conda by running\n",
      "\n",
      "    $ conda update -n base conda\n",
      "\n",
      "\n",
      "\n",
      "# All requested packages already installed.\n",
      "\n"
     ]
    }
   ],
   "source": [
    "import sys\n",
    "!conda install --yes --prefix {sys.prefix} lxml"
   ]
  },
  {
   "cell_type": "code",
   "execution_count": 6,
   "metadata": {},
   "outputs": [
    {
     "name": "stdout",
     "output_type": "stream",
     "text": [
      "Solving environment: done\n",
      "\n",
      "\n",
      "==> WARNING: A newer version of conda exists. <==\n",
      "  current version: 4.4.10\n",
      "  latest version: 4.5.11\n",
      "\n",
      "Please update conda by running\n",
      "\n",
      "    $ conda update -n base conda\n",
      "\n",
      "\n",
      "\n",
      "# All requested packages already installed.\n",
      "\n"
     ]
    }
   ],
   "source": [
    "import sys\n",
    "!conda install --yes --prefix {sys.prefix} pandas"
   ]
  },
  {
   "cell_type": "code",
   "execution_count": 5,
   "metadata": {},
   "outputs": [],
   "source": [
    "import pandas as pd"
   ]
  },
  {
   "cell_type": "code",
   "execution_count": 6,
   "metadata": {},
   "outputs": [],
   "source": [
    "import requests\n",
    "from lxml import html"
   ]
  },
  {
   "cell_type": "markdown",
   "metadata": {},
   "source": [
    "## Accessing the API"
   ]
  },
  {
   "cell_type": "code",
   "execution_count": 17,
   "metadata": {},
   "outputs": [],
   "source": [
    "apiKey = \"A-riEuQZ1uvqpYVCIBd-LYYKma8KQ6_tgZ0w5nuD\"\n",
    "url = \"https://api.companieshouse.gov.uk/search/companies?q=crypto&items_per_page=20\"\n",
    "\n",
    "data = requests.get(url, auth=(apiKey, '')).json()"
   ]
  },
  {
   "cell_type": "code",
   "execution_count": 18,
   "metadata": {
    "scrolled": true
   },
   "outputs": [
    {
     "name": "stdout",
     "output_type": "stream",
     "text": [
      "ltd\n",
      "CRYPTO LTD\n",
      "10307906\n",
      "active\n",
      "10307906 - Incorporated on  2 August 2016\n",
      "32-33 Cartwright Gardens, London, United Kingdom, WC1H 9EH\n",
      "2016-08-02\n",
      "/company/10307906\n",
      "1\n"
     ]
    }
   ],
   "source": [
    "print(data['items'][0]['company_type'])\n",
    "print(data['items'][0]['title'])\n",
    "print(data['items'][0]['company_number'])\n",
    "print(data['items'][0]['company_status'])\n",
    "print(data['items'][0]['description'])\n",
    "print(data['items'][0]['address_snippet'])\n",
    "print(data['items'][0]['date_of_creation'])\n",
    "print(data['items'][0]['links']['self'])\n",
    "print(data['page_number'])"
   ]
  },
  {
   "cell_type": "code",
   "execution_count": 20,
   "metadata": {},
   "outputs": [
    {
     "name": "stdout",
     "output_type": "stream",
     "text": [
      "346\n",
      "https://api.companieshouse.gov.uk/search/companies?q=bitcoin&items_per_page=100&start_index=0\n",
      "346\n",
      "https://api.companieshouse.gov.uk/search/companies?q=bitcoin&items_per_page=100&start_index=100\n",
      "346\n",
      "https://api.companieshouse.gov.uk/search/companies?q=bitcoin&items_per_page=100&start_index=200\n",
      "346\n",
      "https://api.companieshouse.gov.uk/search/companies?q=bitcoin&items_per_page=100&start_index=300\n"
     ]
    },
    {
     "ename": "KeyError",
     "evalue": "'matches'",
     "output_type": "error",
     "traceback": [
      "\u001b[0;31m---------------------------------------------------------------------------\u001b[0m",
      "\u001b[0;31mKeyError\u001b[0m                                  Traceback (most recent call last)",
      "\u001b[0;32m<ipython-input-20-be4ab1b12396>\u001b[0m in \u001b[0;36m<module>\u001b[0;34m()\u001b[0m\n\u001b[1;32m     22\u001b[0m         \u001b[0mdescription\u001b[0m \u001b[0;34m=\u001b[0m \u001b[0mbitcoin_re\u001b[0m\u001b[0;34m[\u001b[0m\u001b[0;34m'items'\u001b[0m\u001b[0;34m]\u001b[0m\u001b[0;34m[\u001b[0m\u001b[0mi\u001b[0m\u001b[0;34m]\u001b[0m\u001b[0;34m[\u001b[0m\u001b[0;34m'description'\u001b[0m\u001b[0;34m]\u001b[0m\u001b[0;34m\u001b[0m\u001b[0m\n\u001b[1;32m     23\u001b[0m         \u001b[0mlink\u001b[0m \u001b[0;34m=\u001b[0m \u001b[0mbitcoin_re\u001b[0m\u001b[0;34m[\u001b[0m\u001b[0;34m'items'\u001b[0m\u001b[0;34m]\u001b[0m\u001b[0;34m[\u001b[0m\u001b[0mi\u001b[0m\u001b[0;34m]\u001b[0m\u001b[0;34m[\u001b[0m\u001b[0;34m'links'\u001b[0m\u001b[0;34m]\u001b[0m\u001b[0;34m[\u001b[0m\u001b[0;34m'self'\u001b[0m\u001b[0;34m]\u001b[0m\u001b[0;34m\u001b[0m\u001b[0m\n\u001b[0;32m---> 24\u001b[0;31m         \u001b[0mmatches\u001b[0m \u001b[0;34m=\u001b[0m \u001b[0mbitcoin_re\u001b[0m\u001b[0;34m[\u001b[0m\u001b[0;34m'items'\u001b[0m\u001b[0;34m]\u001b[0m\u001b[0;34m[\u001b[0m\u001b[0mi\u001b[0m\u001b[0;34m]\u001b[0m\u001b[0;34m[\u001b[0m\u001b[0;34m'matches'\u001b[0m\u001b[0;34m]\u001b[0m\u001b[0;34m[\u001b[0m\u001b[0;34m'snippet'\u001b[0m\u001b[0;34m]\u001b[0m\u001b[0;34m\u001b[0m\u001b[0m\n\u001b[0m\u001b[1;32m     25\u001b[0m         \u001b[0;32mif\u001b[0m \u001b[0mlen\u001b[0m\u001b[0;34m(\u001b[0m\u001b[0mbitcoin_re\u001b[0m\u001b[0;34m[\u001b[0m\u001b[0;34m'items'\u001b[0m\u001b[0;34m]\u001b[0m\u001b[0;34m[\u001b[0m\u001b[0mi\u001b[0m\u001b[0;34m]\u001b[0m\u001b[0;34m[\u001b[0m\u001b[0;34m'matches'\u001b[0m\u001b[0;34m]\u001b[0m\u001b[0;34m[\u001b[0m\u001b[0;34m'snippet'\u001b[0m\u001b[0;34m]\u001b[0m\u001b[0;34m)\u001b[0m \u001b[0;34m==\u001b[0m \u001b[0;36m0\u001b[0m\u001b[0;34m:\u001b[0m\u001b[0;34m\u001b[0m\u001b[0m\n\u001b[1;32m     26\u001b[0m \u001b[0;34m\u001b[0m\u001b[0m\n",
      "\u001b[0;31mKeyError\u001b[0m: 'matches'"
     ]
    }
   ],
   
   "source": [
    "#Companies from a list\n",
    "numbers = (\"08757996\", \"08493818\",\"10388856\",\"09334596\", \"11182522\",\"07995888\", \"10102984\", \"10868869\",\"11152545\",\"11287176\",\"10289781\",\"11535989\",\"11071154\",\"11371136\",\"03269801\",\"11172678\",\"07973792\",\"06708799\", \"SO306273\",\"10722638\",\"06390043\",\"09083955\",\"03269801\")\n",
    "url_company = \"https://api.companieshouse.gov.uk/company/\"\n",
    "company_data = []\n",
    "index = 0\n",
    "for n in numbers:\n",
    "    r_company = requests.get(url_company+str(n), auth=(apiKey, '')).json()\n",
    "    index = index+1\n",
    "    name = r_company[\"company_name\"]\n",
    "    company_type = r_company['type']\n",
    "    number = r_company['company_number']\n",
    "    status = r_company[\"company_status\"]\n",
    "    address = r_company['registered_office_address']\n",
    "    date_creation = r_company[\"date_of_creation\"]\n",
    "    description = \"No record\"\n",
    "    link = r_company['links']['self']\n",
    "    matches = \"No record\"\n",
    "    try:\n",
    "        \n",
    "        previous_name = r_company[\"previous_company_names\"][0]['name']\n",
    "        ceased_on = r_company[\"previous_company_names\"][0]['ceased_on']\n",
    "        effective_from = r_company[\"previous_company_names\"][0]['effective_from']\n",
    "    except Exception:\n",
    "        pass\n",
    "    company_data.append((index,name,company_type,number,status,address,date_creation,description,link, matches, previous_name, ceased_on,effective_from))\n",
    "       "
   ]
  },
  {
   "cell_type": "code",
   "execution_count": null,
   "metadata": {},
   "outputs": [],
   "source": [
    "len(company_data)\n",
    "df_company_data = pd.DataFrame(company_data, columns=[\"index\",\"name\",\"type\",\"number\", \"status\",\"address\",\"date_of_creation\",\"description\",\"link\",\"matches\",\"previous_name\",\"ceased\",\"effective_from\"])\n",
    "df_company_data.to_csv(\"company_data.csv\", index=False)"
   ]
  },
  {
   "cell_type": "code",
   "execution_count": null,
   "metadata": {},
   "outputs": [],
   "source": []
  },
  {
   "cell_type": "code",
   "execution_count": null,
   "metadata": {},
   "outputs": [],
   "source": [
    "test_url =\"https://api.companieshouse.gov.uk/search/companies?q=%22virtual+coin+%22&items_per_page=20\"\n",
    "test_re = requests.get(test_url, auth=(apiKey, '')).json()\n",
    "print(test_re['total_results'])"
   ]
  },
  {
   "cell_type": "markdown",
   "metadata": {},
   "source": [
    "# # OK DATA"
   ]
  },
  {
   "cell_type": "code",
   "execution_count": 17,
   "metadata": {},
   "outputs": [
    {
     "name": "stdout",
     "output_type": "stream",
     "text": [
      "https://api.companieshouse.gov.uk/search/companies?q=bitcoin&items_per_page=100&start_index=0\n",
      "https://api.companieshouse.gov.uk/search/companies?q=bitcoin&items_per_page=100&start_index=100\n",
      "https://api.companieshouse.gov.uk/search/companies?q=bitcoin&items_per_page=100&start_index=200\n",
      "https://api.companieshouse.gov.uk/search/companies?q=bitcoin&items_per_page=100&start_index=300\n",
      "https://api.companieshouse.gov.uk/search/companies?q=bitcoin&items_per_page=100&start_index=400\n",
      "https://api.companieshouse.gov.uk/search/companies?q=bitcoin&items_per_page=100&start_index=500\n",
      "https://api.companieshouse.gov.uk/search/companies?q=bitcoin&items_per_page=100&start_index=600\n",
      "https://api.companieshouse.gov.uk/search/companies?q=bitcoin&items_per_page=100&start_index=700\n",
      "https://api.companieshouse.gov.uk/search/companies?q=bitcoin&items_per_page=100&start_index=800\n",
      "https://api.companieshouse.gov.uk/search/companies?q=bitcoin&items_per_page=100&start_index=900\n",
      "https://api.companieshouse.gov.uk/search/companies?q=crypto&items_per_page=100&start_index=0\n",
      "https://api.companieshouse.gov.uk/search/companies?q=crypto&items_per_page=100&start_index=100\n",
      "https://api.companieshouse.gov.uk/search/companies?q=crypto&items_per_page=100&start_index=200\n",
      "https://api.companieshouse.gov.uk/search/companies?q=crypto&items_per_page=100&start_index=300\n",
      "https://api.companieshouse.gov.uk/search/companies?q=crypto&items_per_page=100&start_index=400\n",
      "https://api.companieshouse.gov.uk/search/companies?q=crypto&items_per_page=100&start_index=500\n",
      "https://api.companieshouse.gov.uk/search/companies?q=crypto&items_per_page=100&start_index=600\n",
      "https://api.companieshouse.gov.uk/search/companies?q=crypto&items_per_page=100&start_index=700\n",
      "https://api.companieshouse.gov.uk/search/companies?q=crypto&items_per_page=100&start_index=800\n",
      "https://api.companieshouse.gov.uk/search/companies?q=crypto&items_per_page=100&start_index=900\n",
      "https://api.companieshouse.gov.uk/search/companies?q=BTC&items_per_page=100&start_index=0\n",
      "https://api.companieshouse.gov.uk/search/companies?q=BTC&items_per_page=100&start_index=100\n",
      "https://api.companieshouse.gov.uk/search/companies?q=BTC&items_per_page=100&start_index=200\n",
      "https://api.companieshouse.gov.uk/search/companies?q=BTC&items_per_page=100&start_index=300\n",
      "https://api.companieshouse.gov.uk/search/companies?q=BTC&items_per_page=100&start_index=400\n",
      "https://api.companieshouse.gov.uk/search/companies?q=BTC&items_per_page=100&start_index=500\n",
      "https://api.companieshouse.gov.uk/search/companies?q=BTC&items_per_page=100&start_index=600\n",
      "https://api.companieshouse.gov.uk/search/companies?q=BTC&items_per_page=100&start_index=700\n",
      "https://api.companieshouse.gov.uk/search/companies?q=BTC&items_per_page=100&start_index=800\n",
      "https://api.companieshouse.gov.uk/search/companies?q=BTC&items_per_page=100&start_index=900\n",
      "https://api.companieshouse.gov.uk/search/companies?q=blockchain&items_per_page=100&start_index=0\n",
      "https://api.companieshouse.gov.uk/search/companies?q=blockchain&items_per_page=100&start_index=100\n",
      "https://api.companieshouse.gov.uk/search/companies?q=blockchain&items_per_page=100&start_index=200\n",
      "https://api.companieshouse.gov.uk/search/companies?q=blockchain&items_per_page=100&start_index=300\n",
      "https://api.companieshouse.gov.uk/search/companies?q=blockchain&items_per_page=100&start_index=400\n",
      "https://api.companieshouse.gov.uk/search/companies?q=blockchain&items_per_page=100&start_index=500\n",
      "https://api.companieshouse.gov.uk/search/companies?q=blockchain&items_per_page=100&start_index=600\n",
      "https://api.companieshouse.gov.uk/search/companies?q=blockchain&items_per_page=100&start_index=700\n",
      "https://api.companieshouse.gov.uk/search/companies?q=blockchain&items_per_page=100&start_index=800\n",
      "https://api.companieshouse.gov.uk/search/companies?q=blockchain&items_per_page=100&start_index=900\n",
      "https://api.companieshouse.gov.uk/search/companies?q=cripto&items_per_page=100&start_index=0\n",
      "https://api.companieshouse.gov.uk/search/companies?q=cripto&items_per_page=100&start_index=100\n",
      "https://api.companieshouse.gov.uk/search/companies?q=cripto&items_per_page=100&start_index=200\n",
      "https://api.companieshouse.gov.uk/search/companies?q=cripto&items_per_page=100&start_index=300\n",
      "https://api.companieshouse.gov.uk/search/companies?q=cripto&items_per_page=100&start_index=400\n",
      "https://api.companieshouse.gov.uk/search/companies?q=cripto&items_per_page=100&start_index=500\n",
      "https://api.companieshouse.gov.uk/search/companies?q=cripto&items_per_page=100&start_index=600\n",
      "https://api.companieshouse.gov.uk/search/companies?q=cripto&items_per_page=100&start_index=700\n",
      "https://api.companieshouse.gov.uk/search/companies?q=cripto&items_per_page=100&start_index=800\n",
      "https://api.companieshouse.gov.uk/search/companies?q=cripto&items_per_page=100&start_index=900\n",
      "https://api.companieshouse.gov.uk/search/companies?q=coins&items_per_page=100&start_index=0\n",
      "https://api.companieshouse.gov.uk/search/companies?q=coins&items_per_page=100&start_index=100\n",
      "https://api.companieshouse.gov.uk/search/companies?q=coins&items_per_page=100&start_index=200\n",
      "https://api.companieshouse.gov.uk/search/companies?q=coins&items_per_page=100&start_index=300\n",
      "https://api.companieshouse.gov.uk/search/companies?q=coins&items_per_page=100&start_index=400\n",
      "https://api.companieshouse.gov.uk/search/companies?q=coins&items_per_page=100&start_index=500\n",
      "https://api.companieshouse.gov.uk/search/companies?q=coins&items_per_page=100&start_index=600\n",
      "https://api.companieshouse.gov.uk/search/companies?q=coins&items_per_page=100&start_index=700\n",
      "https://api.companieshouse.gov.uk/search/companies?q=coins&items_per_page=100&start_index=800\n",
      "https://api.companieshouse.gov.uk/search/companies?q=coins&items_per_page=100&start_index=900\n",
      "https://api.companieshouse.gov.uk/search/companies?q=protocol&items_per_page=100&start_index=0\n",
      "https://api.companieshouse.gov.uk/search/companies?q=protocol&items_per_page=100&start_index=100\n",
      "https://api.companieshouse.gov.uk/search/companies?q=protocol&items_per_page=100&start_index=200\n"
     ]
    },
    {
     "ename": "JSONDecodeError",
     "evalue": "Expecting value: line 1 column 1 (char 0)",
     "output_type": "error",
     "traceback": [
      "\u001b[0;31m---------------------------------------------------------------------------\u001b[0m",
      "\u001b[0;31mJSONDecodeError\u001b[0m                           Traceback (most recent call last)",
      "\u001b[0;32m<ipython-input-17-e1636bedfb5f>\u001b[0m in \u001b[0;36m<module>\u001b[0;34m()\u001b[0m\n\u001b[1;32m     34\u001b[0m \u001b[0;34m\u001b[0m\u001b[0m\n\u001b[1;32m     35\u001b[0m                 \u001b[0;32melse\u001b[0m\u001b[0;34m:\u001b[0m\u001b[0;34m\u001b[0m\u001b[0m\n\u001b[0;32m---> 36\u001b[0;31m                     \u001b[0mprevious_name\u001b[0m \u001b[0;34m=\u001b[0m \u001b[0mrequests\u001b[0m\u001b[0;34m.\u001b[0m\u001b[0mget\u001b[0m\u001b[0;34m(\u001b[0m\u001b[0;34m\"https://api.companieshouse.gov.uk/company/\"\u001b[0m\u001b[0;34m+\u001b[0m\u001b[0mnumber\u001b[0m\u001b[0;34m,\u001b[0m \u001b[0mauth\u001b[0m\u001b[0;34m=\u001b[0m\u001b[0;34m(\u001b[0m\u001b[0mapiKey\u001b[0m\u001b[0;34m,\u001b[0m \u001b[0;34m''\u001b[0m\u001b[0;34m)\u001b[0m\u001b[0;34m)\u001b[0m\u001b[0;34m.\u001b[0m\u001b[0mjson\u001b[0m\u001b[0;34m(\u001b[0m\u001b[0;34m)\u001b[0m\u001b[0;34m[\u001b[0m\u001b[0;34m\"previous_company_names\"\u001b[0m\u001b[0;34m]\u001b[0m\u001b[0;34m[\u001b[0m\u001b[0;36m0\u001b[0m\u001b[0;34m]\u001b[0m\u001b[0;34m[\u001b[0m\u001b[0;34m'name'\u001b[0m\u001b[0;34m]\u001b[0m\u001b[0;34m\u001b[0m\u001b[0m\n\u001b[0m\u001b[1;32m     37\u001b[0m                     \u001b[0mceased_on\u001b[0m \u001b[0;34m=\u001b[0m \u001b[0mrequests\u001b[0m\u001b[0;34m.\u001b[0m\u001b[0mget\u001b[0m\u001b[0;34m(\u001b[0m\u001b[0;34m\"https://api.companieshouse.gov.uk/company/\"\u001b[0m\u001b[0;34m+\u001b[0m\u001b[0mnumber\u001b[0m\u001b[0;34m,\u001b[0m \u001b[0mauth\u001b[0m\u001b[0;34m=\u001b[0m\u001b[0;34m(\u001b[0m\u001b[0mapiKey\u001b[0m\u001b[0;34m,\u001b[0m \u001b[0;34m''\u001b[0m\u001b[0;34m)\u001b[0m\u001b[0;34m)\u001b[0m\u001b[0;34m.\u001b[0m\u001b[0mjson\u001b[0m\u001b[0;34m(\u001b[0m\u001b[0;34m)\u001b[0m\u001b[0;34m[\u001b[0m\u001b[0;34m\"previous_company_names\"\u001b[0m\u001b[0;34m]\u001b[0m\u001b[0;34m[\u001b[0m\u001b[0;36m0\u001b[0m\u001b[0;34m]\u001b[0m\u001b[0;34m[\u001b[0m\u001b[0;34m'ceased_on'\u001b[0m\u001b[0;34m]\u001b[0m\u001b[0;34m\u001b[0m\u001b[0m\n\u001b[1;32m     38\u001b[0m                     \u001b[0meffective_from\u001b[0m \u001b[0;34m=\u001b[0m \u001b[0mrequests\u001b[0m\u001b[0;34m.\u001b[0m\u001b[0mget\u001b[0m\u001b[0;34m(\u001b[0m\u001b[0;34m\"https://api.companieshouse.gov.uk/company/\"\u001b[0m\u001b[0;34m+\u001b[0m\u001b[0mnumber\u001b[0m\u001b[0;34m,\u001b[0m \u001b[0mauth\u001b[0m\u001b[0;34m=\u001b[0m\u001b[0;34m(\u001b[0m\u001b[0mapiKey\u001b[0m\u001b[0;34m,\u001b[0m \u001b[0;34m''\u001b[0m\u001b[0;34m)\u001b[0m\u001b[0;34m)\u001b[0m\u001b[0;34m.\u001b[0m\u001b[0mjson\u001b[0m\u001b[0;34m(\u001b[0m\u001b[0;34m)\u001b[0m\u001b[0;34m[\u001b[0m\u001b[0;34m\"previous_company_names\"\u001b[0m\u001b[0;34m]\u001b[0m\u001b[0;34m[\u001b[0m\u001b[0;36m0\u001b[0m\u001b[0;34m]\u001b[0m\u001b[0;34m[\u001b[0m\u001b[0;34m'effective_from'\u001b[0m\u001b[0;34m]\u001b[0m\u001b[0;34m\u001b[0m\u001b[0m\n",
      "\u001b[0;32m~/anaconda3/lib/python3.6/site-packages/requests/models.py\u001b[0m in \u001b[0;36mjson\u001b[0;34m(self, **kwargs)\u001b[0m\n\u001b[1;32m    895\u001b[0m                     \u001b[0;31m# used.\u001b[0m\u001b[0;34m\u001b[0m\u001b[0;34m\u001b[0m\u001b[0m\n\u001b[1;32m    896\u001b[0m                     \u001b[0;32mpass\u001b[0m\u001b[0;34m\u001b[0m\u001b[0m\n\u001b[0;32m--> 897\u001b[0;31m         \u001b[0;32mreturn\u001b[0m \u001b[0mcomplexjson\u001b[0m\u001b[0;34m.\u001b[0m\u001b[0mloads\u001b[0m\u001b[0;34m(\u001b[0m\u001b[0mself\u001b[0m\u001b[0;34m.\u001b[0m\u001b[0mtext\u001b[0m\u001b[0;34m,\u001b[0m \u001b[0;34m**\u001b[0m\u001b[0mkwargs\u001b[0m\u001b[0;34m)\u001b[0m\u001b[0;34m\u001b[0m\u001b[0m\n\u001b[0m\u001b[1;32m    898\u001b[0m \u001b[0;34m\u001b[0m\u001b[0m\n\u001b[1;32m    899\u001b[0m     \u001b[0;34m@\u001b[0m\u001b[0mproperty\u001b[0m\u001b[0;34m\u001b[0m\u001b[0m\n",
      "\u001b[0;32m~/anaconda3/lib/python3.6/json/__init__.py\u001b[0m in \u001b[0;36mloads\u001b[0;34m(s, encoding, cls, object_hook, parse_float, parse_int, parse_constant, object_pairs_hook, **kw)\u001b[0m\n\u001b[1;32m    352\u001b[0m             \u001b[0mparse_int\u001b[0m \u001b[0;32mis\u001b[0m \u001b[0;32mNone\u001b[0m \u001b[0;32mand\u001b[0m \u001b[0mparse_float\u001b[0m \u001b[0;32mis\u001b[0m \u001b[0;32mNone\u001b[0m \u001b[0;32mand\u001b[0m\u001b[0;34m\u001b[0m\u001b[0m\n\u001b[1;32m    353\u001b[0m             parse_constant is None and object_pairs_hook is None and not kw):\n\u001b[0;32m--> 354\u001b[0;31m         \u001b[0;32mreturn\u001b[0m \u001b[0m_default_decoder\u001b[0m\u001b[0;34m.\u001b[0m\u001b[0mdecode\u001b[0m\u001b[0;34m(\u001b[0m\u001b[0ms\u001b[0m\u001b[0;34m)\u001b[0m\u001b[0;34m\u001b[0m\u001b[0m\n\u001b[0m\u001b[1;32m    355\u001b[0m     \u001b[0;32mif\u001b[0m \u001b[0mcls\u001b[0m \u001b[0;32mis\u001b[0m \u001b[0;32mNone\u001b[0m\u001b[0;34m:\u001b[0m\u001b[0;34m\u001b[0m\u001b[0m\n\u001b[1;32m    356\u001b[0m         \u001b[0mcls\u001b[0m \u001b[0;34m=\u001b[0m \u001b[0mJSONDecoder\u001b[0m\u001b[0;34m\u001b[0m\u001b[0m\n",
      "\u001b[0;32m~/anaconda3/lib/python3.6/json/decoder.py\u001b[0m in \u001b[0;36mdecode\u001b[0;34m(self, s, _w)\u001b[0m\n\u001b[1;32m    337\u001b[0m \u001b[0;34m\u001b[0m\u001b[0m\n\u001b[1;32m    338\u001b[0m         \"\"\"\n\u001b[0;32m--> 339\u001b[0;31m         \u001b[0mobj\u001b[0m\u001b[0;34m,\u001b[0m \u001b[0mend\u001b[0m \u001b[0;34m=\u001b[0m \u001b[0mself\u001b[0m\u001b[0;34m.\u001b[0m\u001b[0mraw_decode\u001b[0m\u001b[0;34m(\u001b[0m\u001b[0ms\u001b[0m\u001b[0;34m,\u001b[0m \u001b[0midx\u001b[0m\u001b[0;34m=\u001b[0m\u001b[0m_w\u001b[0m\u001b[0;34m(\u001b[0m\u001b[0ms\u001b[0m\u001b[0;34m,\u001b[0m \u001b[0;36m0\u001b[0m\u001b[0;34m)\u001b[0m\u001b[0;34m.\u001b[0m\u001b[0mend\u001b[0m\u001b[0;34m(\u001b[0m\u001b[0;34m)\u001b[0m\u001b[0;34m)\u001b[0m\u001b[0;34m\u001b[0m\u001b[0m\n\u001b[0m\u001b[1;32m    340\u001b[0m         \u001b[0mend\u001b[0m \u001b[0;34m=\u001b[0m \u001b[0m_w\u001b[0m\u001b[0;34m(\u001b[0m\u001b[0ms\u001b[0m\u001b[0;34m,\u001b[0m \u001b[0mend\u001b[0m\u001b[0;34m)\u001b[0m\u001b[0;34m.\u001b[0m\u001b[0mend\u001b[0m\u001b[0;34m(\u001b[0m\u001b[0;34m)\u001b[0m\u001b[0;34m\u001b[0m\u001b[0m\n\u001b[1;32m    341\u001b[0m         \u001b[0;32mif\u001b[0m \u001b[0mend\u001b[0m \u001b[0;34m!=\u001b[0m \u001b[0mlen\u001b[0m\u001b[0;34m(\u001b[0m\u001b[0ms\u001b[0m\u001b[0;34m)\u001b[0m\u001b[0;34m:\u001b[0m\u001b[0;34m\u001b[0m\u001b[0m\n",
      "\u001b[0;32m~/anaconda3/lib/python3.6/json/decoder.py\u001b[0m in \u001b[0;36mraw_decode\u001b[0;34m(self, s, idx)\u001b[0m\n\u001b[1;32m    355\u001b[0m             \u001b[0mobj\u001b[0m\u001b[0;34m,\u001b[0m \u001b[0mend\u001b[0m \u001b[0;34m=\u001b[0m \u001b[0mself\u001b[0m\u001b[0;34m.\u001b[0m\u001b[0mscan_once\u001b[0m\u001b[0;34m(\u001b[0m\u001b[0ms\u001b[0m\u001b[0;34m,\u001b[0m \u001b[0midx\u001b[0m\u001b[0;34m)\u001b[0m\u001b[0;34m\u001b[0m\u001b[0m\n\u001b[1;32m    356\u001b[0m         \u001b[0;32mexcept\u001b[0m \u001b[0mStopIteration\u001b[0m \u001b[0;32mas\u001b[0m \u001b[0merr\u001b[0m\u001b[0;34m:\u001b[0m\u001b[0;34m\u001b[0m\u001b[0m\n\u001b[0;32m--> 357\u001b[0;31m             \u001b[0;32mraise\u001b[0m \u001b[0mJSONDecodeError\u001b[0m\u001b[0;34m(\u001b[0m\u001b[0;34m\"Expecting value\"\u001b[0m\u001b[0;34m,\u001b[0m \u001b[0ms\u001b[0m\u001b[0;34m,\u001b[0m \u001b[0merr\u001b[0m\u001b[0;34m.\u001b[0m\u001b[0mvalue\u001b[0m\u001b[0;34m)\u001b[0m \u001b[0;32mfrom\u001b[0m \u001b[0;32mNone\u001b[0m\u001b[0;34m\u001b[0m\u001b[0m\n\u001b[0m\u001b[1;32m    358\u001b[0m         \u001b[0;32mreturn\u001b[0m \u001b[0mobj\u001b[0m\u001b[0;34m,\u001b[0m \u001b[0mend\u001b[0m\u001b[0;34m\u001b[0m\u001b[0m\n",
      "\u001b[0;31mJSONDecodeError\u001b[0m: Expecting value: line 1 column 1 (char 0)"
     ]
    }
   ],
   "source": [
    "apiKey = \"A-riEuQZ1uvqpYVCIBd-LYYKma8KQ6_tgZ0w5nuD\"\n",
    "url1 = \"https://api.companieshouse.gov.uk/search/companies?q=\"\n",
    "words = (\"bitcoin\", \"crypto\",\"BTC\", \"blockchain\", \"cripto\", \"coins\", \"protocol\", \"coinbase\", \"coincheck\", \"coindesk\", \"coingate\", \"bitgo\", \"bitmoney\", \"bitfinex\", \"digitalmoney\", \"buycoin\", \"coinfloor\")\n",
    "url2 = \"&items_per_page=100&start_index=\"\n",
    "numbers = (0,100,200,300,400,500,600,700,800,900)\n",
    "data_CH_ok = []\n",
    "index = 0\n",
    "\n",
    "for w in words:\n",
    "    for n in numbers:\n",
    "        url_full = url1+w+url2+str(n)\n",
    "        print(url_full)\n",
    "        \n",
    "        re = requests.get(url_full, auth=(apiKey, '')).json()\n",
    "        for i in range(0,100):\n",
    "            try:\n",
    "                index = index+1\n",
    "                word = w\n",
    "                name = re['items'][i]['title']\n",
    "                number = re['items'][i]['company_number']\n",
    "                company_type = re['items'][i]['company_type']\n",
    "                linkCH = re['items'][i]['links']['self']\n",
    "                status = re['items'][i]['company_status']\n",
    "                incorporation_date = re['items'][i]['date_of_creation']\n",
    "                dissolution_date = re['items'][i]['description']\n",
    "                address = re['items'][i]['address_snippet']\n",
    "\n",
    "                #matches = re['items'][i]['matches']['snippet']\n",
    "                if len(re['items'][i]['matches']['snippet']) == 0:\n",
    "\n",
    "                    previous_name = \"Empty\"\n",
    "                    ceased_on = \"Empty\"\n",
    "                    effective_from = \"Empty\"\n",
    "\n",
    "                else:\n",
    "                    previous_name = requests.get(\"https://api.companieshouse.gov.uk/company/\"+number, auth=(apiKey, '')).json()[\"previous_company_names\"][0]['name']\n",
    "                    ceased_on = requests.get(\"https://api.companieshouse.gov.uk/company/\"+number, auth=(apiKey, '')).json()[\"previous_company_names\"][0]['ceased_on']\n",
    "                    effective_from = requests.get(\"https://api.companieshouse.gov.uk/company/\"+number, auth=(apiKey, '')).json()[\"previous_company_names\"][0]['effective_from']\n",
    "\n",
    "                    #company = \"https://api.companieshouse.gov.uk/company/\"+data_bitcoin['company_number']\n",
    "                    #r2 = requests.get(company, auth=(apiKey, '')).json()\n",
    "                    #matches = r2['previous_company_names'][0]['name']\n",
    "                    #ceased_on = r2['previous_company_names'][0]['ceased_on']\n",
    "            except (IndexError, KeyError):\n",
    "                continue\n",
    "            else:\n",
    "                pass\n",
    "\n",
    "                data_CH_ok.append((index,word,name,number,company_type,linkCH,status,incorporation_date,dissolution_date,address,matches, previous_name, ceased_on,effective_from))\n",
    "            "
   ]
  },
  {
   "cell_type": "code",
   "execution_count": 18,
   "metadata": {},
   "outputs": [],
   "source": [
    "df_CH = pd.DataFrame(data_CH_ok,columns=[\"index\",\"word\",\"name\",\"number\",\"company_type\",\"linkCH\",\"status\",\"incorporation_date\",\"dissolution_date\",\"address\",\"matches\",\"previous_name\",\"ceased_on\",\"effective_from\"])"
   ]
  },
  {
   "cell_type": "code",
   "execution_count": 19,
   "metadata": {},
   "outputs": [
    {
     "data": {
      "text/plain": [
       "2643"
      ]
     },
     "execution_count": 19,
     "metadata": {},
     "output_type": "execute_result"
    }
   ],
   "source": [
    "len(df_CH)"
   ]
  },
  {
   "cell_type": "code",
   "execution_count": 20,
   "metadata": {},
   "outputs": [],
   "source": [
    "df_CH.to_csv('companiesCompanyHouse.csv', index=False)"
   ]
  },
  {
   "cell_type": "code",
   "execution_count": null,
   "metadata": {},
   "outputs": [],
   "source": []
  }
 ],
 "metadata": {
  "kernelspec": {
   "display_name": "Python 3",
   "language": "python",
   "name": "python3"
  },
  "language_info": {
   "codemirror_mode": {
    "name": "ipython",
    "version": 3
   },
   "file_extension": ".py",
   "mimetype": "text/x-python",
   "name": "python",
   "nbconvert_exporter": "python",
   "pygments_lexer": "ipython3",
   "version": "3.6.4"
  }
 },
 "nbformat": 4,
 "nbformat_minor": 2
}
